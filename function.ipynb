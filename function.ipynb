{
 "cells": [
  {
   "cell_type": "code",
   "execution_count": 1,
   "metadata": {},
   "outputs": [
    {
     "name": "stdout",
     "output_type": "stream",
     "text": [
      "chidambaram 123\n",
      "bhoomi 124\n",
      "Emp class called\n"
     ]
    }
   ],
   "source": [
    "class Person:\n",
    "    def __init__(self,name,id):\n",
    "        self.name = name\n",
    "        self.id = id\n",
    "\n",
    "    def display(self):\n",
    "        print(self.name,self.id)\n",
    "\n",
    "class Emp(Person):\n",
    "    def office (self):\n",
    "        print(\"Emp class called\")\n",
    "\n",
    "emp = Person(\"chidambaram\",\"123\")\n",
    "emp.display()\n",
    "emp_details = Emp(\"bhoomi\",\"124\")\n",
    "emp_details.display()\n",
    "emp_details.office()       \n",
    "\n",
    "        "
   ]
  },
  {
   "cell_type": "code",
   "execution_count": 7,
   "metadata": {},
   "outputs": [
    {
     "name": "stdout",
     "output_type": "stream",
     "text": [
      "Orignal salary of Aishu is 20000\n",
      "Aishu new salary:22000.0\n"
     ]
    }
   ],
   "source": [
    "class Employee:\n",
    "    def __init__(self,name,age,salary):\n",
    "        self.name = name\n",
    "        self.age = int(age)\n",
    "        self.salary = int(salary)\n",
    "        \n",
    "    def increase_salary(self,salary_increase):\n",
    "        self.salary_increase = salary_increase\n",
    "        if salary_increase>0:\n",
    "            self.salary =self.salary*(1+salary_increase/100)\n",
    "        else:\n",
    "            print(\"provide esential salary\") \n",
    "\n",
    "e1 = Employee(\"Aishu\",20,20000)\n",
    "print(f\"Orignal salary of {e1.name} is {e1.salary}\")\n",
    "\n",
    "\n",
    "e1.increase_salary(10)\n",
    "print(f\"{e1.name} new salary:{e1.salary}\")"
   ]
  },
  {
   "cell_type": "markdown",
   "metadata": {},
   "source": [
    "Note-Taking Application:\n",
    "\n",
    "        1. Define the menu: Display the options available to the user.\n",
    "\n",
    "        2. Define functions for each operation:\n",
    "            View notes\n",
    "            Add a new note\n",
    "            Search for a note by title\n",
    "            Delete a note\n",
    "        \n",
    "        3. Implement the main loop: Continuously prompt the user to choose an option and perform the corresponding action until they choose to exit.\n",
    "\n",
    "Expected functios:\n",
    "        display_menu(): Prints the main menu.\n",
    "        view_notes(notes): Displays all notes with their titles and contents.\n",
    "        add_note(notes): Prompts the user to enter a note title and content, then adds the note to the dictionary.\n",
    "        search_note(notes): Searches for a note by its title and displays the content if found.\n",
    "        delete_note(notes): Deletes a note by its title if it exists in the dictionary.\n",
    "        main(): Runs the main loop, displaying the menu and handling user input to perform the appropriate actions."
   ]
  },
  {
   "cell_type": "code",
   "execution_count": 2,
   "metadata": {},
   "outputs": [],
   "source": [
    "def display_menu():\n",
    "    print(\"Note taking Application\")\n",
    "    print(\"1.view the notes\")\n",
    "    print(\"2.add a new notes\")\n",
    "    print(\"3.search a notes\")\n",
    "    print(\"4.delete a notes\")\n",
    "    print(\"5.Exit\")\n",
    "    \n",
    "def view_notes(notes):\n",
    "    if not notes:\n",
    "        print(\"notes are not found\")\n",
    "    else:\n",
    "        print(\"notes are found\")\n",
    "        for titles,content in notes.item():\n",
    "            print (f\"Title:{titles}\") \n",
    "            print(f\"Content:{content}\")\n",
    "            print(\"--------------\")\n",
    "            \n",
    "def add_notes(notes):\n",
    "    print(\"Enter a title you want to add:\")\n",
    "    title = input(\"Title\")\n",
    "    content = input(\"Content\")\n",
    "    notes[title] = content\n",
    "    print(f\"{title} and{content} is added successfully\")\n",
    "\n",
    "def search_notes(notes):\n",
    "    title = input(\"Enter the title you want to search:\")\n",
    "    if not notes:\n",
    "        print(f\"Title : {title}\")\n",
    "        print(f\"Content:{notes[title]}\")\n",
    "    else:\n",
    "        print(\"Title is not found\")\n",
    "\n",
    "def delete_notes(notes):\n",
    "    title = input(\"enter a title you want to delete:\")\n",
    "    if title in notes:\n",
    "        del  notes[title]\n",
    "        print(f\"The TITLE{title} is deleted\")\n",
    "    else:\n",
    "        print(f\"The title {title} you have type is wrong\")\n",
    "\n",
    "def main():\n",
    "    notes = {}\n",
    "    while True:\n",
    "        display_menu()\n",
    "        choice = input(\"print choice from 1 to 5 to access the app:\")\n",
    "\n",
    "        if choice == 1:\n",
    "            print(view_notes(notes))\n",
    "        elif choice == 2:\n",
    "            print(add_notes(notes))\n",
    "        elif choice == 3:\n",
    "            print(search_notes(notes))\n",
    "        elif choice == 4:\n",
    "            print(delete_notes(notes))\n",
    "        elif choice == 5:\n",
    "            print(\"The app is Existing\")\n",
    "\n",
    "            break\n",
    "        else:\n",
    "            print(\"Please appy the correct number\")\n",
    "            \n",
    "if __name__ == \"__main___\":\n",
    "    main()\n",
    "\n",
    "\n",
    "\n",
    "\n",
    "\n"
   ]
  }
 ],
 "metadata": {
  "kernelspec": {
   "display_name": "Python 3",
   "language": "python",
   "name": "python3"
  },
  "language_info": {
   "codemirror_mode": {
    "name": "ipython",
    "version": 3
   },
   "file_extension": ".py",
   "mimetype": "text/x-python",
   "name": "python",
   "nbconvert_exporter": "python",
   "pygments_lexer": "ipython3",
   "version": "3.12.4"
  }
 },
 "nbformat": 4,
 "nbformat_minor": 2
}
