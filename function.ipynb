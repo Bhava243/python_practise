{
 "cells": [
  {
   "cell_type": "code",
   "execution_count": 1,
   "metadata": {},
   "outputs": [
    {
     "name": "stdout",
     "output_type": "stream",
     "text": [
      "chidambaram 123\n",
      "bhoomi 124\n",
      "Emp class called\n"
     ]
    }
   ],
   "source": [
    "class Person:\n",
    "    def __init__(self,name,id):\n",
    "        self.name = name\n",
    "        self.id = id\n",
    "\n",
    "    def display(self):\n",
    "        print(self.name,self.id)\n",
    "\n",
    "class Emp(Person):\n",
    "    def office (self):\n",
    "        print(\"Emp class called\")\n",
    "\n",
    "emp = Person(\"chidambaram\",\"123\")\n",
    "emp.display()\n",
    "emp_details = Emp(\"bhoomi\",\"124\")\n",
    "emp_details.display()\n",
    "emp_details.office()       \n",
    "\n",
    "        "
   ]
  },
  {
   "cell_type": "code",
   "execution_count": 7,
   "metadata": {},
   "outputs": [
    {
     "name": "stdout",
     "output_type": "stream",
     "text": [
      "Orignal salary of Aishu is 20000\n",
      "Aishu new salary:22000.0\n"
     ]
    }
   ],
   "source": [
    "class Employee:\n",
    "    def __init__(self,name,age,salary):\n",
    "        self.name = name\n",
    "        self.age = int(age)\n",
    "        self.salary = int(salary)\n",
    "        \n",
    "    def increase_salary(self,salary_increase):\n",
    "        self.salary_increase = salary_increase\n",
    "        if salary_increase>0:\n",
    "            self.salary =self.salary*(1+salary_increase/100)\n",
    "        else:\n",
    "            print(\"provide esential salary\") \n",
    "\n",
    "e1 = Employee(\"Aishu\",20,20000)\n",
    "print(f\"Orignal salary of {e1.name} is {e1.salary}\")\n",
    "\n",
    "\n",
    "e1.increase_salary(10)\n",
    "print(f\"{e1.name} new salary:{e1.salary}\")"
   ]
  }
 ],
 "metadata": {
  "kernelspec": {
   "display_name": "Python 3",
   "language": "python",
   "name": "python3"
  },
  "language_info": {
   "codemirror_mode": {
    "name": "ipython",
    "version": 3
   },
   "file_extension": ".py",
   "mimetype": "text/x-python",
   "name": "python",
   "nbconvert_exporter": "python",
   "pygments_lexer": "ipython3",
   "version": "3.12.4"
  }
 },
 "nbformat": 4,
 "nbformat_minor": 2
}
