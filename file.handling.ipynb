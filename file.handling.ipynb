{
 "cells": [
  {
   "cell_type": "code",
   "execution_count": 1,
   "metadata": {},
   "outputs": [
    {
     "name": "stdout",
     "output_type": "stream",
     "text": [
      "Current directory: c:\\Users\\Bavadarini\\OneDrive\\ドキュメント\\GitHub\\python_practise\n"
     ]
    }
   ],
   "source": [
    "import os\n",
    "\n",
    "# Get the current working directory\n",
    "current_directory = os.getcwd()\n",
    "print(\"Current directory:\", current_directory)"
   ]
  },
  {
   "cell_type": "code",
   "execution_count": 2,
   "metadata": {},
   "outputs": [
    {
     "name": "stdout",
     "output_type": "stream",
     "text": [
      "Files and directories in the directory: ['.git', '.gitattributes', '.gitignore', '00modules', 'dict.ipynb', 'file.handling.ipynb', 'function.ipynb', 'list.ipynb', 'list_practice.ipynb', 'loops.ipynb', 'modules', 'numbers.ipynb', 'OOPS_practice.ipynb', 'pratice_venv', 'sample.ipynb', 'string.ipynb', 'string_practise.ipynb']\n"
     ]
    }
   ],
   "source": [
    "import os\n",
    "\n",
    "# List all files and directories in a specified directory\n",
    "files_and_dirs = os.listdir(os.getcwd())\n",
    "print(\"Files and directories in the directory:\", files_and_dirs)"
   ]
  },
  {
   "cell_type": "code",
   "execution_count": 4,
   "metadata": {},
   "outputs": [
    {
     "name": "stdout",
     "output_type": "stream",
     "text": [
      "Path exists.\n"
     ]
    }
   ],
   "source": [
    "\n",
    "import os\n",
    "\n",
    "# Check if a specified path exists\n",
    "path = r\"C:\\Users\\Bavadarini\\OneDrive\\ドキュメント\\GitHub\\python_practise\\list_practice.ipynb\"\n",
    "if os.path.exists(path):\n",
    "    print(\"Path exists.\")\n",
    "else:\n",
    "    print(\"Path does not exist.\")"
   ]
  },
  {
   "cell_type": "code",
   "execution_count": 16,
   "metadata": {},
   "outputs": [
    {
     "name": "stdout",
     "output_type": "stream",
     "text": [
      "It is not a directory.\n"
     ]
    }
   ],
   "source": [
    "import os\n",
    "\n",
    "# Check if a specified path is a directory\n",
    "path = \"python_practise\"\n",
    "if os.path.isdir(path):\n",
    "    print(\"It is a directory.\")\n",
    "else:\n",
    "    print(\"It is not a directory.\")"
   ]
  },
  {
   "cell_type": "code",
   "execution_count": 13,
   "metadata": {},
   "outputs": [
    {
     "name": "stdout",
     "output_type": "stream",
     "text": [
      "It is a file.\n"
     ]
    }
   ],
   "source": [
    "import os\n",
    "\n",
    "# Check if a specified path is a file\n",
    "path = \"list_practice.ipynb\"\n",
    "if os.path.isfile(path):\n",
    "    print(\"It is a file.\")\n",
    "else:\n",
    "    print(\"It is not a file.\")"
   ]
  },
  {
   "cell_type": "code",
   "execution_count": 18,
   "metadata": {},
   "outputs": [
    {
     "data": {
      "text/plain": [
       "\"\\nopen('test.txt', 'w'): \\n  This function call opens a file named 'test.txt' in write mode ('w'). \\n  If the file doesn't exist, it will be created. If the file already exists, \\n  its contents will be overwritten. This function returns a file object representing \\n  the opened file.\\n\""
      ]
     },
     "execution_count": 18,
     "metadata": {},
     "output_type": "execute_result"
    }
   ],
   "source": [
    "f = open('test.txt','w') \n",
    "\n",
    "\"\"\"\n",
    "open('test.txt', 'w'): \n",
    "  This function call opens a file named 'test.txt' in write mode ('w'). \n",
    "  If the file doesn't exist, it will be created. If the file already exists, \n",
    "  its contents will be overwritten. This function returns a file object representing \n",
    "  the opened file.\n",
    "\"\"\""
   ]
  },
  {
   "cell_type": "code",
   "execution_count": 19,
   "metadata": {},
   "outputs": [
    {
     "data": {
      "text/plain": [
       "\"\\nf.close(): \\n  This method is called on the file object f to close the file once you're done\\n  working with it. It's important to close the file to release system resources and \\n  ensure that all data is written to the file.\\n\""
      ]
     },
     "execution_count": 19,
     "metadata": {},
     "output_type": "execute_result"
    }
   ],
   "source": [
    "f.close()\n",
    "\n",
    "\"\"\"\n",
    "f.close(): \n",
    "  This method is called on the file object f to close the file once you're done\n",
    "  working with it. It's important to close the file to release system resources and \n",
    "  ensure that all data is written to the file.\n",
    "\"\"\""
   ]
  },
  {
   "cell_type": "code",
   "execution_count": 20,
   "metadata": {},
   "outputs": [
    {
     "name": "stdout",
     "output_type": "stream",
     "text": [
      "File Name:  test.txt\n",
      "File Mode:  w\n",
      "Is file readable:  False\n",
      "Is file Writable:  True\n",
      "Is file closed:  False\n",
      "Is file closed:  True\n"
     ]
    }
   ],
   "source": [
    "f = open(\"test.txt\", 'w')\n",
    "\n",
    "# Print the name of the file.\n",
    "print('File Name: ', f.name)\n",
    "\n",
    "# Print the mode in which the file was opened.\n",
    "print('File Mode: ', f.mode)\n",
    "\n",
    "# Check if the file is readable. Since it's opened in write mode, it's not readable.\n",
    "print('Is file readable: ', f.readable())\n",
    "\n",
    "# Check if the file is writable. Since it's opened in write mode, it's writable.\n",
    "print('Is file Writable: ', f.writable())\n",
    "\n",
    "# Check if the file is closed. Since it's still open, it's not closed.\n",
    "print('Is file closed: ', f.closed)\n",
    "\n",
    "# Close the file.\n",
    "f.close()\n",
    "\n",
    "# Check if the file is closed after closing it. It should be closed now.\n",
    "print('Is file closed: ', f.closed)"
   ]
  },
  {
   "cell_type": "code",
   "execution_count": 21,
   "metadata": {},
   "outputs": [
    {
     "name": "stdout",
     "output_type": "stream",
     "text": [
      "\n"
     ]
    }
   ],
   "source": [
    "with open('test.txt','r') as f:\n",
    "    data = f.read(10)\n",
    "    print(data)"
   ]
  },
  {
   "cell_type": "code",
   "execution_count": null,
   "metadata": {},
   "outputs": [],
   "source": []
  }
 ],
 "metadata": {
  "kernelspec": {
   "display_name": "Python 3",
   "language": "python",
   "name": "python3"
  },
  "language_info": {
   "codemirror_mode": {
    "name": "ipython",
    "version": 3
   },
   "file_extension": ".py",
   "mimetype": "text/x-python",
   "name": "python",
   "nbconvert_exporter": "python",
   "pygments_lexer": "ipython3",
   "version": "3.12.4"
  }
 },
 "nbformat": 4,
 "nbformat_minor": 2
}
