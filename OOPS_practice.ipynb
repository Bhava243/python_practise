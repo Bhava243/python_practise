{
 "cells": [
  {
   "cell_type": "code",
   "execution_count": 2,
   "metadata": {},
   "outputs": [
    {
     "name": "stdout",
     "output_type": "stream",
     "text": [
      "Hi\n"
     ]
    }
   ],
   "source": [
    "s = \"Hi\"\n",
    "print(s)"
   ]
  },
  {
   "cell_type": "markdown",
   "metadata": {},
   "source": [
    "Create a class called Rectangle with attributes length and width. Implement methods to calculate the area and perimeter of the rectangle."
   ]
  },
  {
   "cell_type": "code",
   "execution_count": 3,
   "metadata": {},
   "outputs": [
    {
     "name": "stdout",
     "output_type": "stream",
     "text": [
      "The Area of rectangle: 30\n",
      "The perimeter of rectangle: 14\n"
     ]
    }
   ],
   "source": [
    "class Rectangle:\n",
    "    def __init__(self,lenght,width):\n",
    "        self.lenght = lenght\n",
    "        self.width = width\n",
    "\n",
    "    def  area_rectangle(self):\n",
    "        return self.lenght * self.width\n",
    "    \n",
    "    def perimeter_rectangle(self):\n",
    "        return 2 * (self.lenght + self.width)\n",
    "    \n",
    "rect1 = Rectangle(5,6)\n",
    "print(\"The Area of rectangle:\",rect1.area_rectangle())\n",
    "\n",
    "rect2 = Rectangle(4,3)\n",
    "print(\"The perimeter of rectangle:\",rect2.perimeter_rectangle())\n",
    "\n",
    "\n",
    "\n",
    "\n"
   ]
  },
  {
   "cell_type": "markdown",
   "metadata": {},
   "source": [
    "Create a class called Circle with attribute radius. Implement methods to calculate the area and circumference of the circle."
   ]
  },
  {
   "cell_type": "code",
   "execution_count": 4,
   "metadata": {},
   "outputs": [
    {
     "name": "stdout",
     "output_type": "stream",
     "text": [
      "The area of circle: 50.26548245743669\n",
      "The circumference of circle: 25.132741228718345\n"
     ]
    }
   ],
   "source": [
    "import math\n",
    "\n",
    "class Circle:\n",
    "    def __init__(self,radius):\n",
    "        self.radius = radius\n",
    "\n",
    "    def area_circle(self):\n",
    "        return math.pi * self.radius * self.radius\n",
    "\n",
    "    def circumference_circle(self):\n",
    "        return 2 * math.pi * self .radius\n",
    "\n",
    "cir = Circle(4)\n",
    "print(\"The area of circle:\",cir.area_circle())\n",
    "\n",
    "circ = Circle(4)\n",
    "print(\"The circumference of circle:\",cir.circumference_circle())"
   ]
  },
  {
   "cell_type": "markdown",
   "metadata": {},
   "source": [
    "Create a class called Employee with attributes name, age, and salary. Implement a method called increase_salary that takes a percentage increase as input and updates the employee's salary accordingly."
   ]
  },
  {
   "cell_type": "code",
   "execution_count": 5,
   "metadata": {},
   "outputs": [
    {
     "name": "stdout",
     "output_type": "stream",
     "text": [
      "Orignal salary of Devaki is 2000\n",
      "Increase salary of Devakiis2200.0\n"
     ]
    }
   ],
   "source": [
    "class Employee:\n",
    "    def __init__(self,name,age,salary):\n",
    "        self.name = name\n",
    "        self.age = age\n",
    "        self.salary = salary\n",
    "\n",
    "    def increase_salary(self,percentage):\n",
    "        if percentage > 0 :\n",
    "            self.salary = self.salary*(1 + percentage /100)\n",
    "        else:\n",
    "            print(\"Please provide the correct salary\")\n",
    "\n",
    "emp = Employee(\"Devaki\",17,2000)\n",
    "print(f\"Orignal salary of {emp.name} is {emp.salary}\") \n",
    "\n",
    "emp.increase_salary(10) \n",
    "print(f\"Increase salary of {emp.name}is{emp.salary}\")           \n"
   ]
  },
  {
   "cell_type": "markdown",
   "metadata": {},
   "source": [
    "Create a class called BankAccount with attributes account_number, holder_name, and balance. Implement methods to deposit and withdraw funds from the account.\n"
   ]
  },
  {
   "cell_type": "code",
   "execution_count": 6,
   "metadata": {},
   "outputs": [
    {
     "name": "stdout",
     "output_type": "stream",
     "text": [
      "The Bank account of Alice is 50000\n",
      "We got successfull deposit for  1234567,Alice,51000\n",
      "We got successfull withdraw for 1234567,Alice,50800 \n"
     ]
    }
   ],
   "source": [
    "class BankAccount:\n",
    "    def __init__(self,account_number,holder_number,balance):\n",
    "        self.account_number = account_number\n",
    "        self.holder_number = holder_number\n",
    "        self.balance = balance\n",
    "\n",
    "    def deposit(self,amount):\n",
    "        if amount>0:\n",
    "            self.balance += amount\n",
    "            print(f\"We got successfull deposit for  {self.account_number},{self.holder_number},{self.balance}\")\n",
    "        else:\n",
    "            print(\"Give provided amount\")\n",
    "\n",
    "    def withdraw(self,amount):\n",
    "        if 0<amount<=self.balance:\n",
    "            self.balance -= amount\n",
    "            print(f\"We got successfull withdraw for {self.account_number},{self.holder_number},{self.balance} \")\n",
    "        else:\n",
    "            print(\"Give the provided amount\") \n",
    "\n",
    "bank = BankAccount(\"1234567\",\"Alice\",50000)\n",
    "print(f\"The Bank account of {bank.holder_number} is {bank.balance}\")\n",
    "bank.deposit(1000)                           \n",
    "bank.withdraw(200)"
   ]
  },
  {
   "cell_type": "markdown",
   "metadata": {},
   "source": [
    "Create a class called Car with attributes  model, and year. Implement a method called start_engine that prints a message indicating the car has started."
   ]
  },
  {
   "cell_type": "code",
   "execution_count": 7,
   "metadata": {},
   "outputs": [
    {
     "name": "stdout",
     "output_type": "stream",
     "text": [
      "The Toyota Car has started on the 2014\n"
     ]
    }
   ],
   "source": [
    "class Car:\n",
    "    def __init__(self,model,year):\n",
    "        self.model = model\n",
    "        self.year = year\n",
    "\n",
    "    def start_engine(self):\n",
    "        print(f\"The {self.model} Car has started on the {self.year}\")\n",
    "\n",
    "my_car = Car(\"Toyota\",2014)\n",
    "my_car.start_engine()            "
   ]
  },
  {
   "cell_type": "markdown",
   "metadata": {},
   "source": [
    " Create a class called Student with attributes name, age, and grades (a list of integers). Implement methods to calculate the average grade and determine if the student has passed (average grade >= 60)."
   ]
  },
  {
   "cell_type": "code",
   "execution_count": 8,
   "metadata": {},
   "outputs": [],
   "source": [
    "class Student:\n",
    "    def __init__(self,name,age,grades):\n",
    "        self.name = name\n",
    "        self.age =int(age)\n",
    "        self.grades = eval(grades)\n",
    "\n",
    "    def calculate_grade(self):\n",
    "        average = sum(self.grades/len(self.grades))\n",
    "        return average\n",
    "    \n",
    "    def has_passed(self):\n",
    "        average_grades = self.calculate_grades()\n",
    "        average_grades >=60\n",
    "\n",
    "st1 = Student(\"Sanjay\",\"17\",\"[97,66,75,49,89]\")\n",
    "\n",
    "\n",
    "\n",
    "\n"
   ]
  },
  {
   "cell_type": "markdown",
   "metadata": {},
   "source": [
    " Create a class called Book with attributes title, author, and year. Implement a method called get_age that returns the age of the book (current year - publication year)."
   ]
  },
  {
   "cell_type": "code",
   "execution_count": 9,
   "metadata": {},
   "outputs": [
    {
     "name": "stdout",
     "output_type": "stream",
     "text": [
      "The Cybernetics is 10 year old \n"
     ]
    }
   ],
   "source": [
    "class Book:\n",
    "    def __init__(self,title,author,year):\n",
    "        self.title = title\n",
    "        self.author = author\n",
    "        self.year = int(year)\n",
    "\n",
    "    def get_age(self):\n",
    "        current_year = 2024 \n",
    "        return current_year - self.year\n",
    "\n",
    "book1 = Book(\"Cybernetics\",\"charles\",2014)\n",
    "print(f\"The {book1.title} is {book1.get_age()} year old \")       "
   ]
  },
  {
   "cell_type": "markdown",
   "metadata": {},
   "source": [
    "Create a class called Shape with an abstract method called calculate_area. Create two subclasses Rectangle and Triangle that inherit from Shape and implement the calculate_area method accordingly.\n"
   ]
  },
  {
   "cell_type": "code",
   "execution_count": 10,
   "metadata": {},
   "outputs": [
    {
     "name": "stdout",
     "output_type": "stream",
     "text": [
      "The area of rectangle is 20\n",
      "The area of triangle is 10.0\n"
     ]
    }
   ],
   "source": [
    "class Shape:\n",
    "    def claculate_area():\n",
    "        pass\n",
    "\n",
    "\n",
    "class Rectangle(Shape):\n",
    "    def __init__(self,breadth,lenght):\n",
    "        self.breadth =  int(breadth)\n",
    "        self.lenght = int(lenght)\n",
    "\n",
    "    def calculated_area(self):\n",
    "        return self.lenght * self.breadth\n",
    "\n",
    "class Triangle(Shape):\n",
    "    def __init__(self,base,height):\n",
    "        self.base = int(base)\n",
    "        self.height = int(height)\n",
    "\n",
    "    def calculated_area(self):\n",
    "        return 0.5 * self.base *self.height\n",
    "\n",
    "rec = Rectangle(4,5)\n",
    "\n",
    "print(f\"The area of rectangle is {rec.calculated_area()}\") \n",
    "\n",
    "tri = Triangle(5,4)\n",
    "print(f\"The area of triangle is {tri.calculated_area()}\")\n",
    "\n",
    "\n",
    "\n"
   ]
  },
  {
   "cell_type": "markdown",
   "metadata": {},
   "source": [
    "Create a class called Person with attributes name and address. Create a subclass Student that inherits from Person and adds an attribute student_id. Implement a method in the Student class to display student information."
   ]
  },
  {
   "cell_type": "code",
   "execution_count": 11,
   "metadata": {},
   "outputs": [
    {
     "name": "stdout",
     "output_type": "stream",
     "text": [
      "Student name: AISHU\n",
      "Student address: Rathinapuri\n",
      "Student id: 123456\n"
     ]
    }
   ],
   "source": [
    "class Person:\n",
    "    def __init__(self,name,address):\n",
    "        self.name = name\n",
    "        self.address = address\n",
    "\n",
    "class Student(Person):\n",
    "    def __init__(self,name,address,student_id):\n",
    "        super().__init__(name,address)\n",
    "        self.student_id = int(student_id)\n",
    "\n",
    "    def display_info(self):\n",
    "        print(f\"Student name: {self.name}\")\n",
    "        print(f\"Student address: {self.address}\")\n",
    "        print(f\"Student id: {self.student_id}\")\n",
    "\n",
    "st = Student(\"AISHU\",\"Rathinapuri\",123456)\n",
    "st.display_info()\n",
    "\n",
    "\n"
   ]
  },
  {
   "cell_type": "markdown",
   "metadata": {},
   "source": [
    " Library Management System\n",
    "\n",
    "    Objective:\n",
    "        Develop a simple console-based application to manage a library's collection of books, \n",
    "        including functionalities for adding, removing, updating, and searching for books, \n",
    "        as well as managing library members and their borrowed books.\n",
    "\n",
    "    Key Features:\n",
    "        Book Management:\n",
    "\n",
    "            Add a new book.\n",
    "            Remove a book.\n",
    "            Update book details.\n",
    "            Search for books by title, author, or ISBN.\n",
    "\n",
    "        Member Management:\n",
    "\n",
    "            Add a new member.\n",
    "            Remove a member.\n",
    "            Update member details.\n",
    "        \n",
    "        Borrow and Return Books:\n",
    "\n",
    "            Borrow a book.\n",
    "            Return a book.\n",
    "            Check borrowed books for a member\n",
    "\n",
    "    \n",
    "    Classes and Relationships:\n",
    "        Book Class:\n",
    "\n",
    "            Attributes: title, author, ISBN, year, available_copies.\n",
    "            Methods: add_book(), remove_book(), update_book(), search_book().\n",
    "\n",
    "        Member Class:\n",
    "\n",
    "            Attributes: name, member_id, contact_info, borrowed_books.\n",
    "            Methods: add_member(), remove_member(), update_member(), view_borrowed_books().\n",
    "\n",
    "        Library Class:\n",
    "\n",
    "            Attributes: books, members.\n",
    "            Methods: borrow_book(), return_book(), list_books(), list_members().\n",
    "\n",
    "\n"
   ]
  },
  {
   "cell_type": "code",
   "execution_count": 13,
   "metadata": {},
   "outputs": [
    {
     "name": "stdout",
     "output_type": "stream",
     "text": [
      "The 1984 by George Orwell (ISBN: 1234567890) year: 1990 (available copies: 5)\n",
      "The Alice (ID: 1, Contact: alice@example.com)\n"
     ]
    }
   ],
   "source": [
    "class Book:\n",
    "    def __init__(self, title, author, ISBN, year, available_copies):\n",
    "        self.title = title\n",
    "        self.author = author\n",
    "        self.ISBN = ISBN\n",
    "        self.year = year\n",
    "        self.available_copies = available_copies\n",
    "\n",
    "    def __str__(self):\n",
    "        return f\"The {self.title} by {self.author} (ISBN: {self.ISBN}) year: {self.year} (available copies: {self.available_copies})\"\n",
    "class Member:\n",
    "    def __init__(self, name, member_id, contact_info):\n",
    "        self.name = name\n",
    "        self.member_id = member_id\n",
    "        self.contact_info = contact_info\n",
    "        self.borrowed_book = []\n",
    "\n",
    "    def borrow_book(self, book):\n",
    "        if book.available_copies > 0:\n",
    "            book.available_copies -= 1\n",
    "            self.borrowed_book.append(book)\n",
    "        else:\n",
    "            print(\"The book is unavailable\")\n",
    "\n",
    "    def return_book(self, book):\n",
    "        if book in self.borrowed_book:\n",
    "            book.available_copies += 1\n",
    "            self.borrowed_book.remove(book)\n",
    "        else:\n",
    "            print(\"The book is not borrowed\")\n",
    "\n",
    "    def __str__(self):\n",
    "        return f\"The {self.name} (ID: {self.member_id}, Contact: {self.contact_info})\"\n",
    "    \n",
    "class Library:\n",
    "    def __init__(self):\n",
    "        self.books = []\n",
    "        self.members = []\n",
    "\n",
    "    def add_book(self, book):\n",
    "        self.books.append(book)\n",
    "\n",
    "    def remove_book(self, ISBN):\n",
    "        for book in self.books:\n",
    "            if book.ISBN == ISBN:\n",
    "                self.books.remove(book)\n",
    "                print(f\"The book with ISBN {ISBN} is removed.\")\n",
    "                return\n",
    "        print(\"Book not found.\")\n",
    "\n",
    "    def search_book(self, ISBN):\n",
    "        for book in self.books:\n",
    "            if book.ISBN == ISBN:\n",
    "                print(f\"Book found: {book}\")\n",
    "                return\n",
    "        print(\"Book not found.\")\n",
    "\n",
    "    def add_member(self, member):\n",
    "        self.members.append(member)\n",
    "\n",
    "    def remove_member(self, member_id):\n",
    "        for member in self.members:\n",
    "            if member.member_id == member_id:\n",
    "                self.members.remove(member)\n",
    "                print(f\"The member with ID {member_id} is removed.\")\n",
    "                return\n",
    "        print(\"Member not found.\")\n",
    "\n",
    "    def list_books(self):\n",
    "        for book in self.books:\n",
    "            print(book)\n",
    "\n",
    "    def list_members(self):\n",
    "        for member in self.members:\n",
    "            print(member)\n",
    "\n",
    "library = Library()\n",
    "\n",
    "book1 = Book(\"1984\", \"George Orwell\", \"1234567890\", 1990, 5)\n",
    "library.add_book(book1)\n",
    "\n",
    "member1 = Member(\"Alice\", \"1\", \"alice@example.com\")\n",
    "library.add_member(member1)\n",
    "\n",
    "\n",
    "member1.borrow_book(book1)\n",
    "member1.return_book(book1)\n",
    "\n",
    "\n",
    "library.list_books()\n",
    "library.list_members()\n",
    "\n",
    "\n",
    "\n",
    "\n"
   ]
  }
 ],
 "metadata": {
  "kernelspec": {
   "display_name": "Python 3",
   "language": "python",
   "name": "python3"
  },
  "language_info": {
   "codemirror_mode": {
    "name": "ipython",
    "version": 3
   },
   "file_extension": ".py",
   "mimetype": "text/x-python",
   "name": "python",
   "nbconvert_exporter": "python",
   "pygments_lexer": "ipython3",
   "version": "3.12.4"
  }
 },
 "nbformat": 4,
 "nbformat_minor": 2
}
