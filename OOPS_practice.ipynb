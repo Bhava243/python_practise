{
 "cells": [
  {
   "cell_type": "code",
   "execution_count": 1,
   "metadata": {},
   "outputs": [
    {
     "name": "stdout",
     "output_type": "stream",
     "text": [
      "Hi\n"
     ]
    }
   ],
   "source": [
    "s = \"Hi\"\n",
    "print(s)"
   ]
  },
  {
   "cell_type": "markdown",
   "metadata": {},
   "source": [
    "Create a class called Rectangle with attributes length and width. Implement methods to calculate the area and perimeter of the rectangle."
   ]
  },
  {
   "cell_type": "code",
   "execution_count": 5,
   "metadata": {},
   "outputs": [
    {
     "name": "stdout",
     "output_type": "stream",
     "text": [
      "The Area of rectangle: 30\n",
      "The perimeter of rectangle: 14\n"
     ]
    }
   ],
   "source": [
    "class Rectangle:\n",
    "    def __init__(self,lenght,width):\n",
    "        self.lenght = lenght\n",
    "        self.width = width\n",
    "\n",
    "    def  area_rectangle(self):\n",
    "        return self.lenght * self.width\n",
    "    \n",
    "    def perimeter_rectangle(self):\n",
    "        return 2 * (self.lenght + self.width)\n",
    "    \n",
    "rect1 = Rectangle(5,6)\n",
    "print(\"The Area of rectangle:\",rect1.area_rectangle())\n",
    "\n",
    "rect2 = Rectangle(4,3)\n",
    "print(\"The perimeter of rectangle:\",rect2.perimeter_rectangle())\n",
    "\n",
    "\n",
    "\n",
    "\n"
   ]
  },
  {
   "cell_type": "markdown",
   "metadata": {},
   "source": [
    "Create a class called Circle with attribute radius. Implement methods to calculate the area and circumference of the circle."
   ]
  },
  {
   "cell_type": "code",
   "execution_count": 6,
   "metadata": {},
   "outputs": [
    {
     "name": "stdout",
     "output_type": "stream",
     "text": [
      "The area of circle: 50.26548245743669\n",
      "The circumference of circle: 25.132741228718345\n"
     ]
    }
   ],
   "source": [
    "import math\n",
    "\n",
    "class Circle:\n",
    "    def __init__(self,radius):\n",
    "        self.radius = radius\n",
    "\n",
    "    def area_circle(self):\n",
    "        return math.pi * self.radius * self.radius\n",
    "\n",
    "    def circumference_circle(self):\n",
    "        return 2 * math.pi * self .radius\n",
    "\n",
    "cir = Circle(4)\n",
    "print(\"The area of circle:\",cir.area_circle())\n",
    "\n",
    "circ = Circle(4)\n",
    "print(\"The circumference of circle:\",cir.circumference_circle())"
   ]
  },
  {
   "cell_type": "markdown",
   "metadata": {},
   "source": [
    "Create a class called Employee with attributes name, age, and salary. Implement a method called increase_salary that takes a percentage increase as input and updates the employee's salary accordingly."
   ]
  },
  {
   "cell_type": "code",
   "execution_count": 19,
   "metadata": {},
   "outputs": [
    {
     "name": "stdout",
     "output_type": "stream",
     "text": [
      "Orignal salary of Devaki is 2000\n",
      "Increase salary of Devakiis2200.0\n"
     ]
    }
   ],
   "source": [
    "class Employee:\n",
    "    def __init__(self,name,age,salary):\n",
    "        self.name = name\n",
    "        self.age = age\n",
    "        self.salary = salary\n",
    "\n",
    "    def increase_salary(self,percentage):\n",
    "        if percentage > 0 :\n",
    "            self.salary = self.salary*(1 + percentage /100)\n",
    "        else:\n",
    "            print(\"Please provide the correct salary\")\n",
    "\n",
    "emp = Employee(\"Devaki\",17,2000)\n",
    "print(f\"Orignal salary of {emp.name} is {emp.salary}\") \n",
    "\n",
    "emp.increase_salary(10) \n",
    "print(f\"Increase salary of {emp.name}is{emp.salary}\")           \n"
   ]
  },
  {
   "cell_type": "markdown",
   "metadata": {},
   "source": [
    "Create a class called BankAccount with attributes account_number, holder_name, and balance. Implement methods to deposit and withdraw funds from the account.\n"
   ]
  },
  {
   "cell_type": "code",
   "execution_count": 29,
   "metadata": {},
   "outputs": [
    {
     "name": "stdout",
     "output_type": "stream",
     "text": [
      "The Bank account of Alice is 50000\n",
      "We got successfull deposit for  1234567,Alice,51000\n",
      "We got successfull withdraw for 1234567,Alice,50800 \n"
     ]
    }
   ],
   "source": [
    "class BankAccount:\n",
    "    def __init__(self,account_number,holder_number,balance):\n",
    "        self.account_number = account_number\n",
    "        self.holder_number = holder_number\n",
    "        self.balance = balance\n",
    "\n",
    "    def deposit(self,amount):\n",
    "        if amount>0:\n",
    "            self.balance += amount\n",
    "            print(f\"We got successfull deposit for  {self.account_number},{self.holder_number},{self.balance}\")\n",
    "        else:\n",
    "            print(\"Give provided amount\")\n",
    "\n",
    "    def withdraw(self,amount):\n",
    "        if 0<amount<=self.balance:\n",
    "            self.balance -= amount\n",
    "            print(f\"We got successfull withdraw for {self.account_number},{self.holder_number},{self.balance} \")\n",
    "        else:\n",
    "            print(\"Give the provided amount\") \n",
    "\n",
    "bank = BankAccount(\"1234567\",\"Alice\",50000)\n",
    "print(f\"The Bank account of {bank.holder_number} is {bank.balance}\")\n",
    "bank.deposit(1000)                           \n",
    "bank.withdraw(200)"
   ]
  }
 ],
 "metadata": {
  "kernelspec": {
   "display_name": "Python 3",
   "language": "python",
   "name": "python3"
  },
  "language_info": {
   "codemirror_mode": {
    "name": "ipython",
    "version": 3
   },
   "file_extension": ".py",
   "mimetype": "text/x-python",
   "name": "python",
   "nbconvert_exporter": "python",
   "pygments_lexer": "ipython3",
   "version": "3.12.4"
  }
 },
 "nbformat": 4,
 "nbformat_minor": 2
}
