{
 "cells": [
  {
   "cell_type": "code",
   "execution_count": 1,
   "metadata": {},
   "outputs": [
    {
     "name": "stdout",
     "output_type": "stream",
     "text": [
      "hi there\n"
     ]
    }
   ],
   "source": [
    "s=\"hi there\"\n",
    "print(s)"
   ]
  },
  {
   "cell_type": "markdown",
   "metadata": {},
   "source": [
    "1.Write a Python program that asks the user to enter their name and age, and then prints out a message that says \"Hello, [name]! You are [age] years old.\""
   ]
  },
  {
   "cell_type": "code",
   "execution_count": 3,
   "metadata": {},
   "outputs": [
    {
     "name": "stdout",
     "output_type": "stream",
     "text": [
      "user input bh 86145\n",
      "hello bh this is your number 86145 please verify it\n"
     ]
    }
   ],
   "source": [
    "m =(input(\"Enter your name:\"))\n",
    "b =int(input(\"Enter your number:\"))\n",
    "print(\"user input\",m,b)\n",
    "print(\"hello\",m,\"this is your number\",b,\"please verify it\")"
   ]
  },
  {
   "cell_type": "markdown",
   "metadata": {},
   "source": [
    "2.Write a Python program that calculates the area of a rectangle. The program should ask the user to enter the length and width of the rectangle, and then print out the area."
   ]
  },
  {
   "cell_type": "code",
   "execution_count": 5,
   "metadata": {},
   "outputs": [
    {
     "name": "stdout",
     "output_type": "stream",
     "text": [
      "The area of reactangle 20\n"
     ]
    }
   ],
   "source": [
    "lenght=int(input(\"Enter any number:\"))\n",
    "width=int(input(\"enter any num\"))\n",
    "\n",
    "area = lenght * width\n",
    "\n",
    "print(\"The area of reactangle\",area)"
   ]
  },
  {
   "cell_type": "markdown",
   "metadata": {},
   "source": [
    "3. Write a Python program that asks the user to enter a string, and then prints out the length of the string."
   ]
  },
  {
   "cell_type": "code",
   "execution_count": 6,
   "metadata": {},
   "outputs": [
    {
     "name": "stdout",
     "output_type": "stream",
     "text": [
      "user input hello world\n",
      "11\n"
     ]
    }
   ],
   "source": [
    "s=input(\"Enter a string:\")\n",
    "print(\"user input\",s)\n",
    "print(len(s))"
   ]
  },
  {
   "cell_type": "markdown",
   "metadata": {},
   "source": [
    "4.Write a Python program that asks the user to enter two numbers, and then prints out whether the first number is greater than, less than, or equal to the second number."
   ]
  },
  {
   "cell_type": "code",
   "execution_count": 2,
   "metadata": {},
   "outputs": [
    {
     "name": "stdout",
     "output_type": "stream",
     "text": [
      "user input 5 4\n",
      "satisfied\n"
     ]
    }
   ],
   "source": [
    "n1=int(input(\"Enter any two number as n1 :\"))\n",
    "n2=int(input(\"Enter any two number as n2:\"))\n",
    "print(\"user input\",n1,n2)\n",
    "if n1>n2 or n1<n2 or n1==n2:\n",
    "    print(\"satisfied\")"
   ]
  },
  {
   "cell_type": "markdown",
   "metadata": {},
   "source": [
    "5.Write a Python program that asks the user to enter a string, and then prints out the string in reverse order."
   ]
  },
  {
   "cell_type": "code",
   "execution_count": 3,
   "metadata": {},
   "outputs": [
    {
     "name": "stdout",
     "output_type": "stream",
     "text": [
      "dlroW olleH\n"
     ]
    }
   ],
   "source": [
    "c=input(\"Enter a sting\")\n",
    "print(c[::-1])"
   ]
  },
  {
   "cell_type": "markdown",
   "metadata": {},
   "source": [
    "6.Write a Python program that asks the user to enter a number, and then prints out whether the number is even or odd."
   ]
  },
  {
   "cell_type": "code",
   "execution_count": 4,
   "metadata": {},
   "outputs": [
    {
     "name": "stdout",
     "output_type": "stream",
     "text": [
      "ODD\n"
     ]
    }
   ],
   "source": [
    "n1=int(input(\"Enter a number as n1:\"))\n",
    "if n1 % 2==0 :\n",
    "    print(\"EVEN\")\n",
    "else:\n",
    "    print(\"ODD\") "
   ]
  },
  {
   "cell_type": "markdown",
   "metadata": {},
   "source": [
    "7. Write a Python program that asks the user to enter a temperature in Fahrenheit, and then converts it to Celsius. The formula for converting Fahrenheit to Celsius is (F - 32) * 5/9."
   ]
  },
  {
   "cell_type": "code",
   "execution_count": 5,
   "metadata": {},
   "outputs": [
    {
     "name": "stdout",
     "output_type": "stream",
     "text": [
      "temperature  in celsius: -8.88888888888889\n"
     ]
    }
   ],
   "source": [
    "Fahrenhiet=int(input(\"Enter a temperature in Fahrenhiet:\"))\n",
    "celsius = (Fahrenhiet-32)*5/9\n",
    "print(\"temperature  in celsius:\",celsius)\n"
   ]
  },
  {
   "cell_type": "markdown",
   "metadata": {},
   "source": [
    "8.Write a Python program that calculates the average of three numbers. The program should ask the user to enter three numbers, and then print out their average."
   ]
  },
  {
   "cell_type": "code",
   "execution_count": 6,
   "metadata": {},
   "outputs": [
    {
     "name": "stdout",
     "output_type": "stream",
     "text": [
      "14.333333333333334\n"
     ]
    }
   ],
   "source": [
    "n1=int(input(\"Enter a number as n1:\"))\n",
    "n2=int(input(\"Enter a number as n2:\"))\n",
    "n3=int(input(\"Enter a number as n3:\"))\n",
    "average=n1+n2+n3/3\n",
    "print(average)"
   ]
  },
  {
   "cell_type": "markdown",
   "metadata": {},
   "source": [
    "9. Write a Python program that asks the user to enter a string, and then checks if the string contains the letter \"e\". If the string contains \"e\", print out a message that says \"The string contains the letter e.\" If the string does not contain \"e\", print out a message that says \"The string does not contain the letter e.\""
   ]
  },
  {
   "cell_type": "code",
   "execution_count": 8,
   "metadata": {},
   "outputs": [
    {
     "name": "stdout",
     "output_type": "stream",
     "text": [
      "user input:  hello world\n",
      "The string contains letter e.\n"
     ]
    }
   ],
   "source": [
    "a=input(\"Enter a string:\")\n",
    "print(\"user input: \",a)\n",
    "if 'e' in a:\n",
    "    print(\"The string contains letter e.\")\n",
    "else:\n",
    "    print(\"The string does not contain letter e\")    "
   ]
  },
  {
   "cell_type": "markdown",
   "metadata": {},
   "source": [
    "10.Write a Python program that asks the user to enter a password. If the password contains less than 8 characters, print out a message that says \"Password too short.\" If the password contains 8 or more characters, print out a message that says \"Password accepted.\""
   ]
  },
  {
   "cell_type": "code",
   "execution_count": 10,
   "metadata": {},
   "outputs": [
    {
     "name": "stdout",
     "output_type": "stream",
     "text": [
      "user input:  12345678\n",
      "The password is too long\n"
     ]
    }
   ],
   "source": [
    "a=(input(\"Enter a password\"))\n",
    "print(\"user input: \",a)\n",
    "if len(a)<8 :\n",
    "    print(\"The password is short\")\n",
    "else:\n",
    "    print(\"The password is too long\")    \n"
   ]
  },
  {
   "cell_type": "markdown",
   "metadata": {},
   "source": [
    "11.Write a Python program that asks the user to enter a number between 1 and 10. If the user enters a number outside of this range, print out a message that says \"Invalid input.\" If the user enters a number within this range, print out a message that says \"Valid input.\""
   ]
  },
  {
   "cell_type": "code",
   "execution_count": 11,
   "metadata": {},
   "outputs": [
    {
     "name": "stdout",
     "output_type": "stream",
     "text": [
      "user input: 4\n",
      "Valid input.\n"
     ]
    }
   ],
   "source": [
    "c=int(input(\"Enter a number between 1 to 10:\"))\n",
    "print(\"user input:\",c)\n",
    "if c<1 or c>10:\n",
    "    print(\"Invalid output.\")\n",
    "else:\n",
    "    print(\"Valid input.\") "
   ]
  },
  {
   "cell_type": "markdown",
   "metadata": {},
   "source": [
    "12.Write a Python program that asks the user to enter a sentence, and then counts the number of words in the sentence."
   ]
  },
  {
   "cell_type": "code",
   "execution_count": 13,
   "metadata": {},
   "outputs": [
    {
     "name": "stdout",
     "output_type": "stream",
     "text": [
      "User input welcome to python\n",
      "17\n"
     ]
    }
   ],
   "source": [
    "a= input(\"Enter a sentence:\")\n",
    "print(\"User input\",a)\n",
    "print(len(a))"
   ]
  },
  {
   "cell_type": "markdown",
   "metadata": {},
   "source": [
    "13.Write a Python program that asks the user to enter a string, and then prints out the string with all the vowels replaced by the letter \"x\"."
   ]
  },
  {
   "cell_type": "code",
   "execution_count": 12,
   "metadata": {},
   "outputs": [
    {
     "name": "stdout",
     "output_type": "stream",
     "text": [
      "user input:  hello world\n",
      "The string is replaced by 'x':  hxllx wxrld\n"
     ]
    }
   ],
   "source": [
    "\n",
    "def replaced_vowels_with_x(a):\n",
    "    vowels = 'aeiouAEIOU'\n",
    "    replaced_string = \"\"\n",
    "\n",
    "    for char in a:\n",
    "        if char in vowels:\n",
    "            replaced_string += 'x'\n",
    "        else:\n",
    "            replaced_string += char\n",
    "\n",
    "    return replaced_string\n",
    "a = input(\"Enter a string\")\n",
    "print(\"user input: \",a)\n",
    "\n",
    "result = replaced_vowels_with_x(a)\n",
    "\n",
    "print(\"The string is replaced by 'x': \",result)\n",
    "            \n",
    "\n",
    "\n"
   ]
  },
  {
   "cell_type": "markdown",
   "metadata": {},
   "source": [
    "14.Write a Python program that asks the user to enter a number, and then checks if the number is a multiple of 3. If the number is a multiple of 3, print out a message that says \"The number is a multiple of 3.\" If the number is not a multiple of 3, print out a message that says \"The number is not a multiple of 3.\""
   ]
  },
  {
   "cell_type": "code",
   "execution_count": 18,
   "metadata": {},
   "outputs": [
    {
     "name": "stdout",
     "output_type": "stream",
     "text": [
      "The number is multiple with 3:  9\n"
     ]
    }
   ],
   "source": [
    "f=int(input(\"Enter any number: \"))\n",
    "if f%3==0 :\n",
    "    print(\"The number is multiple with 3: \",f)\n",
    "else:\n",
    "    print(\"The number is not multiple with 3: \",f)"
   ]
  },
  {
   "cell_type": "markdown",
   "metadata": {},
   "source": [
    "15. Write a Python program that asks the user to enter a string, and then checks if the string starts with the letter \"a\". If the string starts with \"a\", print out a message that says \"The string starts with the letter a.\" If the string does not start with \"a\", print out a message that says \"The string does not start with the letter a.\""
   ]
  },
  {
   "cell_type": "code",
   "execution_count": 19,
   "metadata": {},
   "outputs": [
    {
     "name": "stdout",
     "output_type": "stream",
     "text": [
      "The string is not start with the letter a.\n"
     ]
    }
   ],
   "source": [
    "a=input(\"Enter a string\")\n",
    "if a.lower().startswith('a') :\n",
    "    print(\"The string starts with the letter a.\")\n",
    "else:\n",
    "    print(\"The string is not start with the letter a.\")    "
   ]
  },
  {
   "cell_type": "markdown",
   "metadata": {},
   "source": [
    "16.Write a Python program that asks the user to enter a number between 1 and 100. If the number is a multiple of both 3 and 5, print out a message that says \"FizzBuzz\". If the number is a multiple of only 3, print out a message that says \"Fizz\". If the number is a multiple of only 5, print out a message that says \"Buzz\". If the number is not a multiple of 3 or 5, print out the number itself."
   ]
  },
  {
   "cell_type": "code",
   "execution_count": 4,
   "metadata": {},
   "outputs": [
    {
     "name": "stdout",
     "output_type": "stream",
     "text": [
      "Buzz 5\n"
     ]
    }
   ],
   "source": [
    "n1=int(input(\"Enter a number between 1 to 100: \"))\n",
    "\n",
    "if n1%3 and n1%5 :\n",
    "    print(\"FizzBuzz\",n1)\n",
    "elif n1%3==0 :\n",
    "    print(\"Fizz\",n1)\n",
    "elif n1%5==0 :\n",
    "    print(\"Buzz\",n1)\n",
    "else:\n",
    "    print(\"They multiple with itself\",n1)     \n"
   ]
  },
  {
   "cell_type": "markdown",
   "metadata": {},
   "source": [
    "17.Write a Python program that asks the user to enter a string, and then checks if the string is a palindrome (i.e. the same forwards and backwards) without using any built-in string methods."
   ]
  },
  {
   "cell_type": "code",
   "execution_count": 7,
   "metadata": {},
   "outputs": [
    {
     "name": "stdout",
     "output_type": "stream",
     "text": [
      "The string is palindrome.\n"
     ]
    }
   ],
   "source": [
    "a=input(\"Enter a string:\")\n",
    "if a == a[::-1] :\n",
    "    print(\"The string is palindrome.\")\n",
    "else:\n",
    "    print(\"The string is not palindrome.\")  "
   ]
  },
  {
   "cell_type": "markdown",
   "metadata": {},
   "source": [
    "18.Write a Python program that asks the user to enter a password. If the password is \"password123\", print out a message that says \"Access granted.\" If the password is anything else, print out a message that says \"Access denied.\""
   ]
  },
  {
   "cell_type": "code",
   "execution_count": 8,
   "metadata": {},
   "outputs": [
    {
     "name": "stdout",
     "output_type": "stream",
     "text": [
      "Acess granted password123\n"
     ]
    }
   ],
   "source": [
    "correct_password=\"password123\"\n",
    "\n",
    "a=input(\"Enter a password: \")\n",
    " \n",
    "if a == correct_password :\n",
    "    print(\"Acess granted\",a)\n",
    "else:\n",
    "    print(\"Not Acess\",a)   "
   ]
  },
  {
   "cell_type": "markdown",
   "metadata": {},
   "source": [
    "19.Write a Python program that asks the user to enter a number, and then prints out whether the number is positive, negative, or zero."
   ]
  },
  {
   "cell_type": "code",
   "execution_count": 10,
   "metadata": {},
   "outputs": [
    {
     "name": "stdout",
     "output_type": "stream",
     "text": [
      "The number is negative. -1\n"
     ]
    }
   ],
   "source": [
    "i=int(input(\"Enter a number: \"))\n",
    "if i >0 :\n",
    "    print(\"The number is postive.\",i)\n",
    "elif i<0 :\n",
    "    print(\"The number is negative.\",i)\n",
    "else:\n",
    "    print(\"The number is zero.\",i)      "
   ]
  },
  {
   "cell_type": "markdown",
   "metadata": {},
   "source": [
    "20.Write a Python program that asks the user to enter a string, and then prints out whether the string is a palindrome (i.e. the same forwards and backwards).\n"
   ]
  },
  {
   "cell_type": "code",
   "execution_count": 1,
   "metadata": {},
   "outputs": [
    {
     "name": "stdout",
     "output_type": "stream",
     "text": [
      "The string is palindrome.\n"
     ]
    }
   ],
   "source": [
    "a=input(\"Enter a string:\")\n",
    "if a == a[::-1] :\n",
    "    print(\"The string is palindrome.\")\n",
    "else:\n",
    "    print(\"The string is not palindrome.\")  "
   ]
  }
 ],
 "metadata": {
  "kernelspec": {
   "display_name": "Python 3",
   "language": "python",
   "name": "python3"
  },
  "language_info": {
   "codemirror_mode": {
    "name": "ipython",
    "version": 3
   },
   "file_extension": ".py",
   "mimetype": "text/x-python",
   "name": "python",
   "nbconvert_exporter": "python",
   "pygments_lexer": "ipython3",
   "version": "3.12.4"
  }
 },
 "nbformat": 4,
 "nbformat_minor": 2
}
