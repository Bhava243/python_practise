{
 "cells": [
  {
   "cell_type": "code",
   "execution_count": 1,
   "metadata": {},
   "outputs": [
    {
     "name": "stdout",
     "output_type": "stream",
     "text": [
      "hi\n"
     ]
    }
   ],
   "source": [
    "print(\"hi\")"
   ]
  },
  {
   "cell_type": "code",
   "execution_count": 2,
   "metadata": {},
   "outputs": [
    {
     "name": "stdout",
     "output_type": "stream",
     "text": [
      "user input 5 4\n",
      "The sum of a and b is: 9\n",
      "The difference of a and b is: 1\n",
      "The product of a and b is:  20\n"
     ]
    }
   ],
   "source": [
    "a = int(input(\"Enter a number:\"))\n",
    "b = int(input(\"Enter a number:\"))\n",
    "print(\"user input\",a,b)\n",
    "\n",
    "sum_ab = a + b\n",
    "print(\"The sum of a and b is:\",sum_ab)\n",
    "diff_ab = a - b\n",
    "print(\"The difference of a and b is:\",diff_ab)\n",
    "prod_ab = a * b\n",
    "print(\"The product of a and b is: \",prod_ab) \n"
   ]
  },
  {
   "cell_type": "code",
   "execution_count": 3,
   "metadata": {},
   "outputs": [
    {
     "name": "stdout",
     "output_type": "stream",
     "text": [
      "Not Weird\n"
     ]
    }
   ],
   "source": [
    "n = int(input(\"Enter a number between 1 to 100:\"))\n",
    "if n%2!=0:\n",
    "    print(\"Weird\")\n",
    "elif 2<=n<=5:\n",
    "    print(\"Not Weird\")\n",
    "elif 6<=n<=20:\n",
    "    print(\"Weird\")\n",
    "elif n>=20:\n",
    "     print(\"Not Weird\")         \n"
   ]
  },
  {
   "cell_type": "code",
   "execution_count": 1,
   "metadata": {},
   "outputs": [
    {
     "name": "stdout",
     "output_type": "stream",
     "text": [
      "True\n",
      "False\n"
     ]
    }
   ],
   "source": [
    "def is_leap(year):\n",
    "    leap = False\n",
    "    \n",
    "    if(year%4==0):\n",
    "        print(\"True\")\n",
    "    elif(year%100==0):\n",
    "        print(\"False\")\n",
    "    elif (year%400==0):\n",
    "        print(\"True\")\n",
    "    else:\n",
    "        print(\"Non Leap year\")            \n",
    "    \n",
    "    # Write your logic here\n",
    "    \n",
    "    return leap\n",
    "\n",
    "year = int(input())\n",
    "print(is_leap(year))"
   ]
  },
  {
   "cell_type": "code",
   "execution_count": null,
   "metadata": {},
   "outputs": [],
   "source": [
    "class Book:\n",
    "    def __init__(self,title,author,ISBN,year,available_copies):\n",
    "        self.title = title\n",
    "        self.author = author\n",
    "        self.ISBN = ISBN\n",
    "        self.year = year\n",
    "        self.available_copies = available_copies\n",
    "\n",
    "    def __str__(self):\n",
    "        return (f\"The {self.title} by{self.author} (ISBN:{self.ISBN}) year:{self.year} (available_copies = {self.available_copies})\")    \n",
    "    \n",
    "class Member:\n",
    "    def __init__(self,name,member_id,contact_info,borrowed_book):\n",
    "        self.name = name\n",
    "        self.member_id = member_id\n",
    "        self.contact_info = contact_info\n",
    "        self.borrowed_book = borrowed_book\n",
    "\n",
    "    def borrow_book(self,book):\n",
    "        self.book = book\n",
    "        for book in self.book:\n",
    "            if book.available_copies >0:\n",
    "                book.available_copies -= 1\n",
    "                self.borrow_book.append(book)\n",
    "            else:\n",
    "                print(\"The book is unavailable\")\n",
    "\n",
    "    def return_book(self,book):\n",
    "        self.book = book\n",
    "        if book in self.borrow_book:\n",
    "            book.available_copies += 1\n",
    "            self.return_book.remove(book)\n",
    "        else:\n",
    "            print(\"The book is not borrowed\")                \n",
    "\n",
    "\n",
    "    def __str__(self):\n",
    "        return(f\"The {self.name} his {self.member_id} and his contact {self.contact_info}  \")\n",
    "    \n",
    "class Library:\n",
    "    def __init__(self):\n",
    "        self.book = []\n",
    "        self.members = []\n",
    "\n",
    "    def add_books(self,book):\n",
    "        self.book.append(book)\n",
    "\n",
    "    def remove_books(self,ISBN):\n",
    "        for book in self.book:\n",
    "            if book.ISBN == ISBN:\n",
    "                print(\"The book is removed\")\n",
    "\n",
    "    def search_book(self,ISBN):\n",
    "        for book in self.books:\n",
    "            if book.ISBN == ISBN:\n",
    "                print(f\"Book found: {book}\")\n",
    "                return\n",
    "        print(\"Book not found.\")\n",
    "\n",
    "    def add_member(self, member):\n",
    "        self.members.append(member)\n",
    "\n",
    "    def remove_member(self, member_id):\n",
    "        for member in self.members:\n",
    "            if member.member_id == member_id:\n",
    "                self.members.remove(member)\n",
    "                print(f\"The member with ID {member_id} is removed.\")\n",
    "                return\n",
    "        print(\"Member not found.\")\n",
    "\n",
    "    \n",
    "\n",
    "\n",
    "\n",
    "    def list_book(self):\n",
    "        for book in self.book:\n",
    "            print(book)\n",
    "\n",
    "    def list_member(self):\n",
    "        for member in self.member:\n",
    "            print(member)\n",
    "\n",
    "library = Library()\n",
    "\n",
    "book1 = Book(\"1984\",\"Geroge Orwell\",\"1234567890\",1990,5)\n",
    "library.add_books(book1)\n",
    "\n",
    "member1 = Member(\"Alice\",\"1\",\"alice@example.com\")\n",
    "library.add_member(member1)\n",
    "\n",
    "library.borrow_book(\"1\",\"1234567890\")\n",
    "library.return_book(\"1\",\"1234567890\")\n",
    "\n",
    "library.list_book()\n",
    "library.list_member()\n",
    "\n",
    "\n",
    "\n",
    "\n",
    "\n",
    "\n",
    "\n",
    "\n",
    "\n",
    "\n",
    "\n",
    "\n",
    "\n",
    "\n",
    "\n",
    "\n",
    "\n",
    "\n",
    "\n",
    "            \n",
    "\n",
    "\n",
    "\n",
    "\n"
   ]
  }
 ],
 "metadata": {
  "kernelspec": {
   "display_name": "Python 3",
   "language": "python",
   "name": "python3"
  },
  "language_info": {
   "codemirror_mode": {
    "name": "ipython",
    "version": 3
   },
   "file_extension": ".py",
   "mimetype": "text/x-python",
   "name": "python",
   "nbconvert_exporter": "python",
   "pygments_lexer": "ipython3",
   "version": "3.12.4"
  }
 },
 "nbformat": 4,
 "nbformat_minor": 2
}
